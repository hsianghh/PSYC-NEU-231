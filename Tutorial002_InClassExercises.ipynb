{
 "cells": [
  {
   "cell_type": "markdown",
   "metadata": {},
   "source": [
    "# In class exercises for Tutorial00 intro to jupyter and python basics"
   ]
  },
  {
   "cell_type": "markdown",
   "metadata": {},
   "source": [
    "## Exercise 1\n",
    "1. Create a list (my_list) with values from 1 to 100\n",
    "1. Print every 4th value from 20 to 80\n",
    "1. Print the above sequence backwards\n",
    "1. Compute the sum of the above sequence (hint: there is a built in function 'sum')"
   ]
  },
  {
   "cell_type": "code",
   "execution_count": 1,
   "metadata": {},
   "outputs": [
    {
     "name": "stdout",
     "output_type": "stream",
     "text": [
      "[1, 2, 3, 4, 5, 6, 7, 8, 9, 10, 11, 12, 13, 14, 15, 16, 17, 18, 19, 20, 21, 22, 23, 24, 25, 26, 27, 28, 29, 30, 31, 32, 33, 34, 35, 36, 37, 38, 39, 40, 41, 42, 43, 44, 45, 46, 47, 48, 49, 50, 51, 52, 53, 54, 55, 56, 57, 58, 59, 60, 61, 62, 63, 64, 65, 66, 67, 68, 69, 70, 71, 72, 73, 74, 75, 76, 77, 78, 79, 80, 81, 82, 83, 84, 85, 86, 87, 88, 89, 90, 91, 92, 93, 94, 95, 96, 97, 98, 99, 100]\n",
      "[20, 24, 28, 32, 36, 40, 44, 48, 52, 56, 60, 64, 68, 72, 76, 80]\n",
      "[80, 76, 72, 68, 64, 60, 56, 52, 48, 44, 40, 36, 32, 28, 24, 20]\n"
     ]
    }
   ],
   "source": [
    "my_list=[1]\n",
    "i=1\n",
    "while i < 100:\n",
    "    i += 1\n",
    "    my_list.append(i)\n",
    "print(my_list)\n",
    "\n",
    "print(my_list[19:81:4])\n",
    "\n",
    "print(my_list[-21:-82:-4])"
   ]
  },
  {
   "cell_type": "markdown",
   "metadata": {},
   "source": [
    "## Exercise 2\n",
    "Tuples are often used to pass values into functions. One nice feature is that their values can be passed to multiple variables at once, for example:\n",
    "\n",
    "my_tuple = ('A','B')\n",
    "\n",
    "a,b = my_tuple\n",
    "\n",
    "will set a and b to the ordered elements in my_tuple. \n",
    "\n",
    "What are a few different ways that you can make a new tuple that combine our Dr. Seuss themed tuples from earlier?\n",
    "1. By creating lots of temporary variables (messy)\n",
    "1. By using a for loop (less messy)\n",
    "1. By using a list (best?)\n",
    "\n",
    "We want one continuous tuple of strings, **not a tuple of tuples** as in the bad example below"
   ]
  },
  {
   "cell_type": "code",
   "execution_count": 2,
   "metadata": {},
   "outputs": [
    {
     "name": "stdout",
     "output_type": "stream",
     "text": [
      "((1, 'fish', 2, 'fish'), ('red', 'fish', 'blue', 'fish'))\n",
      "(1, 'fish', 2, 'fish', 'red', 'fish', 'blue', 'fish')\n",
      "(1, 'fish', 2, 'fish', 'red', 'fish', 'blue', 'fish')\n"
     ]
    }
   ],
   "source": [
    "a_simple_tuple = (1,'fish',2,'fish')\n",
    "annother_tuple = ('red','fish','blue','fish')\n",
    "bad_tuple = (a_simple_tuple,annother_tuple)\n",
    "print(bad_tuple)\n",
    "\n",
    "#1\n",
    "a,b,c,d=a_simple_tuple\n",
    "e,f,g,h=annother_tuple\n",
    "new_tuple1=(a, b, c, d, e, f, g, h)\n",
    "print(new_tuple1)\n",
    "\n",
    "#3\n",
    "new_tuple2=[]\n",
    "for i in a_simple_tuple:\n",
    "    new_tuple2.append(i)\n",
    "for j in annother_tuple:\n",
    "    new_tuple2.append(j)\n",
    "new_tuple = tuple(new_tuple2)\n",
    "print(new_tuple)\n",
    "\n",
    "#4\n",
    "\n",
    "# x=a_simple_tuple+annother_tuple\n",
    "# print(x)\n",
    "\n",
    "# #3 \n",
    "# x = list[a_simple_tuple, annother_tuple]\n",
    "# print(x)"
   ]
  },
  {
   "cell_type": "markdown",
   "metadata": {},
   "source": [
    "## Exercise 3\n",
    "Dictionaries are meant to be called by their keys. The order of a dictionary's keys is **not-predictable** (even though the above example seems to stay in the order we put time in... this is not dependable because a hash is used to link the keys and the items). You can access all values in a dictionary using the values command.\n",
    "1. Create a Tuple of UC Schools in order of enrollment size (this should be challenging as this is not how dictionaries are **typically** used\n",
    " *  To get things started we have a sorted list of school enrollement \n",
    " *  We can loop through each school-size and determine which school it is a match to\n",
    " *  This we can append to a new list (schools_bySize)\n",
    " *  We have started things off below...\n",
    "1. BONUS: have them print together nicely :)"
   ]
  },
  {
   "cell_type": "code",
   "execution_count": 3,
   "metadata": {},
   "outputs": [
    {
     "name": "stdout",
     "output_type": "stream",
     "text": [
      "[0, 6815, 16962, 19799, 21574, 27331, 28127, 29310, 29379, 30873]\n",
      "['Santa Barbara', 'Santa Cruz', 'Irvine', 'Los Angeles', 'Merced', 'Riverside', 'San Diego', 'San Francisco', 'Berkeley', 'Davis']\n",
      "['Santa Barbara', 'Santa Cruz', 'Irvine', 'Los Angeles', 'Merced', 'Riverside', 'San Diego', 'San Francisco', 'Berkeley', 'Davis']\n",
      "[('Santa Barbara', 0), ('Santa Cruz', 6815), ('Irvine', 16962), ('Los Angeles', 19799), ('Merced', 21574), ('Riverside', 27331), ('San Diego', 28127), ('San Francisco', 29310), ('Berkeley', 29379), ('Davis', 30873)]\n"
     ]
    }
   ],
   "source": [
    "UC_Enrollment_list = [21574,16962,27331,30873,6815,19799,28127,0,29310,29379]\n",
    "UC_Enrollment_list.sort()\n",
    "print(UC_Enrollment_list)\n",
    "\n",
    "UC_Enrollment = {'Santa Barbara':21574,'Santa Cruz':16962,'Irvine': 27331,'Los Angeles':30873,\n",
    "                 'Merced':6815,'Riverside':19799,'San Diego':28127,'San Francisco':0,\n",
    "                 'Berkeley':29310,'Davis':29379}\n",
    "schools_bySize=[]\n",
    "\n",
    "for x, y in UC_Enrollment.items():\n",
    "    for i in range(len(UC_Enrollment_list)):\n",
    "        if y== UC_Enrollment_list[i]:\n",
    "            schools_bySize.append(x)\n",
    "        else:\n",
    "            continue\n",
    "print(schools_bySize) \n",
    "tuple_schools_bySize=(schools_bySize) #why still a list?\n",
    "print(tuple_schools_bySize) \n",
    "\n",
    "#2\n",
    "z=list(zip(schools_bySize, UC_Enrollment_list))\n",
    "tuple_combined=(z)\n",
    "print(tuple_combined)"
   ]
  },
  {
   "cell_type": "markdown",
   "metadata": {},
   "source": [
    "# Exercise 4\n",
    "\n",
    "Write a module (in a .py file) that takes a list of 2 numbers and sorts them from low to high using a if...elif...else statement. \n",
    "\n",
    "Also include another function that will take a longer list of numbers (say ~5) and that uses a 'for' loop to compute the product of all numbers in the array. \n",
    "\n",
    "Bonus - for the first function that sorts the two numbers, do some checking to make sure that the input is exactly two numerical values and return gracefully with a helpful message if not. "
   ]
  },
  {
   "cell_type": "code",
   "execution_count": 11,
   "metadata": {},
   "outputs": [
    {
     "name": "stdout",
     "output_type": "stream",
     "text": [
      "Overwriting a.py\n"
     ]
    }
   ],
   "source": [
    "%%writefile a.py\n",
    "def sort_list(x):\n",
    "    y=[]\n",
    "    if x[0] < x[1]:\n",
    "        return x\n",
    "    elif x[0] > x[1]:\n",
    "        y.append(x[1])\n",
    "        y.append(x[0])\n",
    "        return y  \n",
    "    \n",
    "def product_list(x):\n",
    "    y=1\n",
    "    for i in x:\n",
    "        y*=i\n",
    "    return y"
   ]
  },
  {
   "cell_type": "code",
   "execution_count": 10,
   "metadata": {},
   "outputs": [
    {
     "ename": "NameError",
     "evalue": "name 'sort_list' is not defined",
     "output_type": "error",
     "traceback": [
      "\u001b[0;31m---------------------------------------------------------------------------\u001b[0m",
      "\u001b[0;31mNameError\u001b[0m                                 Traceback (most recent call last)",
      "\u001b[0;32m<ipython-input-10-800ef2d7e8f7>\u001b[0m in \u001b[0;36m<module>\u001b[0;34m()\u001b[0m\n\u001b[1;32m      4\u001b[0m \u001b[0mb\u001b[0m\u001b[0;34m=\u001b[0m\u001b[0;34m[\u001b[0m\u001b[0;36m1\u001b[0m\u001b[0;34m,\u001b[0m\u001b[0;36m2\u001b[0m\u001b[0;34m,\u001b[0m\u001b[0;36m3\u001b[0m\u001b[0;34m,\u001b[0m\u001b[0;36m4\u001b[0m\u001b[0;34m,\u001b[0m\u001b[0;36m5\u001b[0m\u001b[0;34m]\u001b[0m\u001b[0;34m\u001b[0m\u001b[0m\n\u001b[1;32m      5\u001b[0m \u001b[0;34m\u001b[0m\u001b[0m\n\u001b[0;32m----> 6\u001b[0;31m \u001b[0mprint\u001b[0m\u001b[0;34m(\u001b[0m\u001b[0msort_list\u001b[0m\u001b[0;34m(\u001b[0m\u001b[0ma\u001b[0m\u001b[0;34m)\u001b[0m\u001b[0;34m)\u001b[0m\u001b[0;34m\u001b[0m\u001b[0m\n\u001b[0m\u001b[1;32m      7\u001b[0m \u001b[0mprint\u001b[0m\u001b[0;34m(\u001b[0m\u001b[0mproduct_list\u001b[0m\u001b[0;34m(\u001b[0m\u001b[0mb\u001b[0m\u001b[0;34m)\u001b[0m\u001b[0;34m)\u001b[0m\u001b[0;34m\u001b[0m\u001b[0m\n",
      "\u001b[0;31mNameError\u001b[0m: name 'sort_list' is not defined"
     ]
    }
   ],
   "source": [
    "import a as mod\n",
    "\n",
    "a=[10,3]\n",
    "b=[1,2,3,4,5]\n",
    "\n",
    "print(sort_list(a))\n",
    "print(product_list(b))"
   ]
  },
  {
   "cell_type": "code",
   "execution_count": 8,
   "metadata": {},
   "outputs": [
    {
     "name": "stdout",
     "output_type": "stream",
     "text": [
      "Writing new.py\n"
     ]
    }
   ],
   "source": [
    "%%writefile new.py\n",
    "\n",
    "def sort_list(x):\n",
    "    y=[]\n",
    "    if (type(x[0]) is not int or type(x[1])) is not int:\n",
    "        print('please enter two numbers') \n",
    "    elif type(x[0]) is int and type(x[1]) is int:   \n",
    "        if x[0] < x[1]:\n",
    "            return x\n",
    "        elif x[0] > x[1]:\n",
    "            y.append(x[1])\n",
    "            y.append(x[0])\n",
    "            return y\n",
    "    \n",
    "    \n",
    "def product_list(x):\n",
    "    y=1\n",
    "    for i in x:\n",
    "        y*=i\n",
    "    return y"
   ]
  },
  {
   "cell_type": "code",
   "execution_count": 9,
   "metadata": {},
   "outputs": [
    {
     "name": "stdout",
     "output_type": "stream",
     "text": [
      "[1, 10]\n",
      "120\n"
     ]
    }
   ],
   "source": [
    "import new as mod\n",
    "\n",
    "a=[10,1]\n",
    "b=[1,2,3,4,5]\n",
    "\n",
    "\n",
    "print(mod.sort_list(a))\n",
    "print(mod.product_list(b)) "
   ]
  }
 ],
 "metadata": {
  "kernelspec": {
   "display_name": "Python 3",
   "language": "python",
   "name": "python3"
  },
  "language_info": {
   "codemirror_mode": {
    "name": "ipython",
    "version": 3
   },
   "file_extension": ".py",
   "mimetype": "text/x-python",
   "name": "python",
   "nbconvert_exporter": "python",
   "pygments_lexer": "ipython3",
   "version": "3.6.5"
  }
 },
 "nbformat": 4,
 "nbformat_minor": 2
}
