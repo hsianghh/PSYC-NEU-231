{
 "cells": [
  {
   "cell_type": "markdown",
   "metadata": {},
   "source": [
    "# FFT tutorial using numpy (and a bit more on plotting)\n",
    "* FFT is a linear transform of the data from the time domain to the frequency domain. You can move back and forth without losing any information\n",
    "* FFT allows you to understand how much activity (power or amplitude) in different frequency bands is in your data - very useful especially for cyclical data like cortical oscillations\n",
    "* Can think about this (a bit loosely) as computing the correlation or dot product between the time domain signal and a series of sinusoids at different frequencies and different phases  \n",
    "\n",
    "[scipy doc](https://docs.scipy.org/doc/numpy/reference/routines.fft.html)\n",
    "\n",
    "![nice figure of concept](http://www.spektrumanalizoru.com/images/time_vs_freq1.gif)\n",
    "\n",
    "![nice animation](https://upload.wikimedia.org/wikipedia/commons/7/72/Fourier_transform_time_and_frequency_domains_%28small%29.gif)\n",
    "\n",
    "![polar coordinate interpretation](http://www.secretmango.com/jimb/Whitepapers/fft/notation_2.gif)"
   ]
  },
  {
   "cell_type": "code",
   "execution_count": 1,
   "metadata": {},
   "outputs": [],
   "source": [
    "# general libs we'll use\n",
    "import numpy as np\n",
    "from numpy import pi\n",
    "import matplotlib.pyplot as plt\n",
    "\n",
    "# also define the default font we'll use for figures. \n",
    "fig_font = {'fontname':'Arial', 'size':'20'}"
   ]
  },
  {
   "cell_type": "markdown",
   "metadata": {},
   "source": [
    "## Generate a signal that we can use\n",
    "* Generating your own signal is usually the best way to start testing an analysis pipeline because you know the ground truth"
   ]
  },
  {
   "cell_type": "code",
   "execution_count": 2,
   "metadata": {},
   "outputs": [
    {
     "data": {
      "image/png": "[encoded data removed]",
      "text/plain": [
       "<Figure size 432x288 with 1 Axes>"
      ]
     },
     "metadata": {},
     "output_type": "display_data"
    }
   ],
   "source": [
    "sr = 256                        # samp rate in Hz\n",
    "f = 10                          # frequency of signal \n",
    "tmax = 2                        # duration of signal, in s\n",
    "dt = 1/sr                       # time step, reciprocal of the sr\n",
    "t = np.arange(0,tmax,dt)        # time axis\n",
    "\n",
    "# make a sin wave - amp is 1\n",
    "sw = np.sin(2*pi*f*t)\n",
    "\n",
    "plt.plot(t, sw, 'k-o', linewidth = 2)    # specify x,y data...in this case time and amplitude of sin\n",
    "\n",
    "# put some labels on the axes\n",
    "plt.xlabel('Time (s)', **fig_font)\n",
    "plt.ylabel('Amplitude', **fig_font)\n",
    "\n",
    "# set the tick marks\n",
    "plt.xticks(np.arange(-.1,tmax+.5,.5), color='k', size=20)\n",
    "plt.yticks((-2,-1,0,1,2), color='k', size=20)\n",
    "\n",
    "# add some nice vertical/horizontal lines to our figure\n",
    "plt.axvline(0, color = 'k', linewidth = 2)\n",
    "plt.axhline(0, color = 'k', linewidth = 2)\n",
    "\n",
    "# show it\n",
    "plt.show()"
   ]
  },
  {
   "cell_type": "markdown",
   "metadata": {},
   "source": [
    "## Do the fft"
   ]
  },
  {
   "cell_type": "code",
   "execution_count": null,
   "metadata": {},
   "outputs": [],
   "source": [
    "# use the numpy fft function \n",
    "sp = np.fft.rfft(sw)      # rfft = fft for real valued inputs"
   ]
  },
  {
   "cell_type": "markdown",
   "metadata": {},
   "source": [
    "## See what the fft returns"
   ]
  },
  {
   "cell_type": "code",
   "execution_count": null,
   "metadata": {},
   "outputs": [],
   "source": [
    "# first element - complex number with real and imaginary parts. \n",
    "print('first element: ', sp[10]) \n",
    "print(sp)"
   ]
  },
  {
   "cell_type": "markdown",
   "metadata": {},
   "source": [
    "## Now calculate the amplitude of the signal at all frequencies. Use np.absolute (np.abs): For complex input, a + ib, the abs returns sqrt( a^2 + b^2 ). "
   ]
  },
  {
   "cell_type": "code",
   "execution_count": null,
   "metadata": {},
   "outputs": [],
   "source": [
    "# remember our coordinate system that we talked about earlier...this is the distance from the origin\n",
    "amp = np.abs(sp)  \n",
    "\n",
    "# normalize by the number of data points, \n",
    "# x2 cause we're ditching the negative frequencies when we deal with real numbers\n",
    "amp = (amp  / len(sw) ) * 2   \n",
    "\n",
    "# note that power, which you sometimes see reported, is amp**2\n",
    "# pwr = amp**2"
   ]
  },
  {
   "cell_type": "code",
   "execution_count": null,
   "metadata": {},
   "outputs": [],
   "source": [
    "# figure out the frequency resolution of the data \n",
    "\n",
    "# frequency resolution is dependent on how long your signal is...\n",
    "freq_steps = 1/tmax\n",
    "\n",
    "# of call this built in function. \n",
    "freq = np.fft.rfftfreq(sw.size, dt)   # Sample spacing is 2nd arg, inverse of the sampling rate. Defaults to 1!\n",
    "\n",
    "print('Freq steps computed by hand: ', freq_steps, ' And computed using built-in: ', freq[1]-freq[0])"
   ]
  },
  {
   "cell_type": "markdown",
   "metadata": {},
   "source": [
    "[reference page for figure legends](https://matplotlib.org/api/_as_gen/matplotlib.pyplot.legend.html)"
   ]
  },
  {
   "cell_type": "code",
   "execution_count": null,
   "metadata": {},
   "outputs": [],
   "source": [
    "# plot the results!\n",
    "plt.plot(freq, amp, 'k')            # plot amplitude \n",
    "\n",
    "# put a legend on it...\n",
    "plt.legend(['normalized fft'], loc='best', fontsize='x-large')  \n",
    "plt.xlabel('Frequency', **fig_font)\n",
    "plt.ylabel('Amplitude', **fig_font)\n",
    "plt.xticks(freq[0:80:10], color='k', size=20)\n",
    "plt.yticks((0,1,2), color='k', size=20)\n",
    "\n",
    "# set the axis limits\n",
    "plt.xlim([0, 40])\n",
    "\n",
    "# show it\n",
    "plt.show()"
   ]
  },
  {
   "cell_type": "markdown",
   "metadata": {},
   "source": [
    "## All good - now we have a representation of the data in the frequency domain. To emphasize that this is just a transform of the data, we can invert the process and go back to our original signal without losing anything (within machine precision at least)"
   ]
  },
  {
   "cell_type": "code",
   "execution_count": null,
   "metadata": {},
   "outputs": [],
   "source": [
    "# use the numpy ifft function, inverse FFT\n",
    "# takes the output from rfft and goes back to the time domain\n",
    "isp = np.fft.irfft(sp)         \n",
    "\n",
    "# plot the inverse of the fft\n",
    "plt.plot(t, isp, 'k-', linewidth = 5)    # specify x,y data...in this case time and amplitude of sin\n",
    "\n",
    "# then plot a dashed line showing the original signal - should be identical\n",
    "plt.plot(t, sw, 'r--', linewidth = 2)    # specify x,y data...in this case time and amplitude of sin\n",
    "\n",
    "plt.legend(['Inverse fft', 'Original Signal'], loc='best', fontsize='x-large')  \n",
    "\n",
    "# put some labels on the axes\n",
    "plt.xlabel('Time (s)', **fig_font)\n",
    "plt.ylabel('Amplitude', **fig_font)\n",
    "\n",
    "# set the tick marks\n",
    "plt.xticks(np.arange(-.1,tmax+.5,.5), color='k', size=20)\n",
    "plt.yticks((-2,-1,0,1,2), color='k', size=20)\n",
    "\n",
    "# add some nice vertical/horizontal lines \n",
    "plt.axvline(0, color = 'k', linewidth = 2)\n",
    "plt.axhline(0, color = 'k', linewidth = 2)\n",
    "\n",
    "# show it\n",
    "plt.show()"
   ]
  },
  {
   "cell_type": "markdown",
   "metadata": {},
   "source": [
    "## More interesting input...sum of three sin waves"
   ]
  },
  {
   "cell_type": "code",
   "execution_count": null,
   "metadata": {},
   "outputs": [],
   "source": [
    "# make a new signal to FFT...combo of sin waves\n",
    "sr = 1024                       # samp rate in Hz\n",
    "f = np.array([10,20,30])        # base frequencies in signal \n",
    "amp = np.array([.7,.3,.5])\n",
    "tmax = 2                        # duration of signal, in s\n",
    "dt = 1/sr                       # time step, reciprocal of the sr\n",
    "t = np.arange(0,tmax,dt)        # time axis\n",
    "\n",
    "# make a more complex sin wave\n",
    "sw = amp[0]*np.sin(2*pi*f[0]*t)+amp[1]*np.sin(2*pi*f[1]*t)+amp[2]*np.sin(2*pi*f[2]*t)\n",
    "\n",
    "# plot the signal...\n",
    "plt.plot(t, sw, 'b-', linewidth = 1)    \n",
    "plt.xlabel('Time (s)', **fig_font)\n",
    "plt.ylabel('Amplitude', **fig_font)\n",
    "plt.xticks(np.arange(0,tmax+.5,.5), color='k', size=20)\n",
    "plt.yticks((-2,0,2), color='k', size=20)\n",
    "plt.grid(1)\n",
    "plt.show()\n",
    "\n",
    "sp = np.fft.rfft(sw)                  # normalize by the number of data points\n",
    "amp = (np.abs(sp) / len(sw)) * 2\n",
    "freq = np.fft.rfftfreq(sw.size, dt)   # Sample spacing is 2nd arg, inverse of the sampling rate. Defaults to 1!\n",
    "plt.plot(freq, amp, 'b', linewidth=1) # plot amplitude (power = np.absolute(sp)**2)\n",
    "plt.legend(['normalized fft'], loc='best', fancybox=1)  \n",
    "plt.xlabel('Frequency', **fig_font)\n",
    "plt.ylabel('Amplitude', **fig_font)\n",
    "plt.xticks(freq[0:80:10], color='k', size=20)\n",
    "plt.yticks((0,1), color='k', size=20)\n",
    "plt.xlim([0, 40])\n",
    "plt.show()\n",
    "freq[1]-freq[0]"
   ]
  },
  {
   "cell_type": "markdown",
   "metadata": {},
   "source": [
    "## So far just pure sin waves...add some noise to see what happens."
   ]
  },
  {
   "cell_type": "code",
   "execution_count": null,
   "metadata": {},
   "outputs": [],
   "source": [
    "# make a new signal to FFT...combo of sin waves\n",
    "sr = 1024                       # samp rate in Hz\n",
    "f = np.array([10,20,30])        # base frequencies in signal \n",
    "amp = np.array([.7,.3,.5])\n",
    "tmax = 2                        # duration of signal, in s\n",
    "dt = 1/sr                       # time step, reciprocal of the sr\n",
    "t = np.arange(0,tmax,dt)        # time axis\n",
    "\n",
    "# amplitude of the additive noise in our data.\n",
    "noise_amp = 7\n",
    "\n",
    "# make a more complex sin wave\n",
    "sw = amp[0]*np.sin(2*pi*f[0]*t)+amp[1]*np.sin(2*pi*f[1]*t)+amp[2]*np.sin(2*pi*f[2]*t)\n",
    "\n",
    "# add some IID (or 'white') noise!\n",
    "sw = sw + (np.random.rand(len(sw))-.5) * noise_amp\n",
    "\n",
    "# plot the signal...\n",
    "plt.plot(t, sw, 'k-', linewidth = 1)  \n",
    "plt.xlabel('Time (s)', **fig_font)\n",
    "plt.ylabel('Amplitude', **fig_font)\n",
    "plt.xticks(np.arange(0,tmax+.5,.5), color='k', size=20)\n",
    "plt.yticks(((-2,-1,0,1,2)), color='k', size=20)\n",
    "plt.grid(1)\n",
    "plt.show()\n",
    "\n",
    "sp = np.fft.rfft(sw)                  # normalize by the number of data points\n",
    "amp = (np.abs(sp) / len(sw)) *2\n",
    "freq = np.fft.rfftfreq(sw.size, dt)   # Sample spacing is 2nd arg, inverse of the sampling rate. Defaults to 1!\n",
    "plt.plot(freq, amp, 'k', linewidth=2) # plot amplitude (power = np.absolute(sp)**2)\n",
    "plt.legend(['normalized fft'], loc='best', fontsize='x-large')  \n",
    "plt.xlabel('Frequency', **fig_font)\n",
    "plt.ylabel('Amplitude', **fig_font)\n",
    "plt.xticks(freq[0:80:10], color='k', size=20)\n",
    "plt.yticks((0,1), color='k', size=20)\n",
    "plt.xlim([0, 40])\n",
    "plt.show()"
   ]
  },
  {
   "cell_type": "markdown",
   "metadata": {},
   "source": [
    "## What limits the resolution of your measurements in the frequency domain? I.e. the spacing along the x-axis? \n",
    "* The freq. resolution is SR/N (sample rate / number of samples)\n",
    "* so while intuition might suggest that increasing the sample rate will increase the frequency resolution, it does not! \n",
    "* We have FreqRes = SR/N = SR/(SR * T) =  1/T...so frequency resolution is dependent on the duration of data collection\n",
    "* one intuition - suppose you only took 2 samples of a signal. Would you have very good resolution to represent that signal in the frequency domain? And would it matter whether you took the two samples at a fast or a slow rate? "
   ]
  },
  {
   "cell_type": "markdown",
   "metadata": {},
   "source": [
    "<div class=\"alert alert-info\"> \n",
    "There is a fundemental tradeoff between time domain resolution and frequency domain resolution. The longer the time interval that you FFT, the higher your freq domain resolution will be. However, FFTing larger time bins means that you lose the ability to tell exactly WHEN something happened.\n",
    "</div>"
   ]
  },
  {
   "cell_type": "markdown",
   "metadata": {},
   "source": [
    "## However, there are some advantages of collecting data at a higher sample rate. \n",
    "* Increasing sample rate increases the range of frequencies that you can estimate\n",
    "* Increasing sample rate gives more stable estimates of the amplitude at each frequency in the presence of noise "
   ]
  },
  {
   "cell_type": "markdown",
   "metadata": {},
   "source": [
    "## To understand why this is, useful to think about the Nyquist limit...need to sample a signal at double the frequency that you want to examine"
   ]
  },
  {
   "cell_type": "code",
   "execution_count": null,
   "metadata": {},
   "outputs": [],
   "source": [
    "sr = 100                        # samp rate in Hz make it high and then we'll downsample to demonstrate.\n",
    "f = 10                          # frequency of signal \n",
    "tmax = 2                        # duration of signal, in s\n",
    "dt = 1/sr                       # time step, reciprocal of the sr\n",
    "t = np.arange(0,tmax,dt)        # time axis\n",
    "\n",
    "# make a cos wave - note: if you change to sin you get a line through 0\n",
    "sw = np.cos(2*pi*f*t)\n",
    "\n",
    "# plot the raw signal\n",
    "plt.plot(t, sw, 'r-', linewidth = 2)    # specify x,y data...convert rad to deg for x-axis\n",
    "plt.xlabel('Time (s)', **fig_font)\n",
    "plt.ylabel('Amplitude', **fig_font)\n",
    "plt.xticks(np.arange(0,tmax+.5,.5), color='k', size=20)\n",
    "plt.yticks((-2,0,2), color='k', size=20)\n",
    "plt.grid(1)\n",
    "plt.show()\n",
    "\n",
    "# then plot samples at 10Hz (or 1 sample every 10 data points)\n",
    "plt.plot(t, sw, 'r-', linewidth = 4)                # plot the original data\n",
    "plt.plot(t[::10], sw[::10], 'ko-', linewidth = 2)    # plot every 10th point to mimic a sr of 10Hz\n",
    "plt.xlabel('Time (s)', **fig_font)\n",
    "plt.ylabel('Amplitude', **fig_font)\n",
    "plt.xticks(np.arange(0,tmax+.5,.5), color='k', size=20)\n",
    "plt.yticks((-2,0,2), color='k', size=20)\n",
    "plt.grid(1)\n",
    "plt.show()\n",
    "\n",
    "# then plot samples at 20Hz (or 1 sample every 5 data points)\n",
    "plt.plot(t, sw, 'r-', linewidth = 4)                # plot the original data\n",
    "plt.plot(t[::5], sw[::5], 'ko-', linewidth = 2)     # plot every 5th point to mimic a sr of 10Hz\n",
    "plt.xlabel('Time (s)', **fig_font)\n",
    "plt.ylabel('Amplitude', **fig_font)\n",
    "plt.xticks(np.arange(0,tmax+.5,.5), color='k', size=20)\n",
    "plt.yticks((-2,0,2), color='k', size=20)\n",
    "plt.grid(1)\n",
    "plt.show()"
   ]
  },
  {
   "cell_type": "markdown",
   "metadata": {},
   "source": [
    "## And based on what we saw above, see what actually happens when you sample the data at different frequencies and then do the FFT (and notice what happens to the range of frequencies estimated)"
   ]
  },
  {
   "cell_type": "code",
   "execution_count": null,
   "metadata": {},
   "outputs": [],
   "source": [
    "# watch what happens when we actually change the sampling rate of the data and then FFT\n",
    "sr = 100                        # samp rate in Hz make it high and then we'll downsample to demonstrate.\n",
    "f = 10                          # frequency of signal \n",
    "tmax = 2                        # duration of signal, in s\n",
    "dt = 1/sr                       # time step, reciprocal of the sr\n",
    "t = np.arange(0,tmax,dt)        # time axis\n",
    "\n",
    "# make a cos wave\n",
    "sw = np.cos(2*pi*f*t)\n",
    "\n",
    "# FFT\n",
    "sp = np.fft.rfft(sw)                  # fft\n",
    "amp = (np.abs(sp) / len(sw)) * 2      # normalize by the number of data points\n",
    "freq = np.fft.rfftfreq(sw.size, dt)   # Sample spacing is 2nd arg, inverse of the sampling rate. Defaults to 1!\n",
    "plt.plot(freq, amp, 'k', linewidth=1)            # plot amplitude \n",
    "plt.legend(['normalized fft'], loc='best', fancybox=1)  \n",
    "plt.xlabel('Frequency', **fig_font)\n",
    "plt.ylabel('Amplitude', **fig_font)\n",
    "plt.xticks(freq[0::20], color='k', size=20)\n",
    "plt.yticks((0,1), color='k', size=20)\n",
    "plt.xlim([0, 70])\n",
    "plt.show()"
   ]
  },
  {
   "cell_type": "markdown",
   "metadata": {},
   "source": [
    "## Point number 2: here pick a fixed temporal interval and a fixed noise level and look at variability of amplitude estimates as a function of sampling rate. \n",
    "* Note again that frequency resolution does not change as a function of sample rate (just the max freq that can be estimated changes). \n",
    "* However, even though freq resolution doesn't change as samp rate gets higher you will be better able to reliably  recover the amplitude of an oscillation in the presence of noise. \n",
    "* You can think about this as a curve fitting problem - the more points you have to fit the more stable your fit is going to be...and if you're right at the minimum sample rate to estimate a frequency you're only going to get stable estimates if your signal has no noise. "
   ]
  },
  {
   "cell_type": "code",
   "execution_count": null,
   "metadata": {},
   "outputs": [],
   "source": [
    "sr = 100                        # samp rate in Hz make it high and then we'll downsample to demonstrate.\n",
    "f = 12                          # frequency of signal \n",
    "tmax = 2                        # duration of signal, in s\n",
    "dt = 1/sr                       # time step, reciprocal of the sr\n",
    "t = np.arange(0,tmax,dt)        # time axis\n",
    "\n",
    "# amp of IID noise\n",
    "noise_amp = 1\n",
    "\n",
    "# make a cos wave\n",
    "sw = np.cos(2*pi*f*t)\n",
    "\n",
    "# add some noise\n",
    "sw = sw + ((np.random.rand(len(sw))-.5) * noise_amp)\n",
    "\n",
    "\n",
    "# plot the raw signal\n",
    "plt.plot(t, sw, 'r-', linewidth = 2)    # specify x,y data...convert rad to deg for x-axis\n",
    "plt.title('Noisy 10Hz sin')\n",
    "plt.xlabel('Time (s)', **fig_font)\n",
    "plt.ylabel('Amplitude', **fig_font)\n",
    "plt.xticks(np.arange(0,tmax+.5,.5), color='k', size=20)\n",
    "plt.yticks((-2,0,2), color='k', size=20)\n",
    "plt.grid(1)\n",
    "plt.show()\n",
    "\n",
    "# then plot samples at 10Hz (or 1 sample every 10 data points)\n",
    "plt.plot(t, sw, 'r-', linewidth = 4)                # plot the original data\n",
    "plt.plot(t[::10], sw[::10], 'ko-', linewidth = 2)    # plot every 10th point to mimic a sr of 10Hz\n",
    "plt.title('Noisy signal sampled at 10Hz')\n",
    "plt.xlabel('Time (s)', **fig_font)\n",
    "plt.ylabel('Amplitude', **fig_font)\n",
    "plt.xticks(np.arange(0,tmax+.5,.5), color='k', size=20)\n",
    "plt.yticks((-2,0,2), color='k', size=20)\n",
    "plt.grid(1)\n",
    "plt.show()\n",
    "\n",
    "# then plot samples at 20Hz (or 1 sample every 5 data points)\n",
    "plt.plot(t, sw, 'r-', linewidth = 4)                # plot the original data\n",
    "plt.plot(t[::5], sw[::5], 'ko-', linewidth = 2)    # plot every 5th point to mimic a sr of 20Hz\n",
    "plt.title('Noisy signal sampled at 20Hz')\n",
    "plt.xlabel('Time (s)', **fig_font)\n",
    "plt.ylabel('Amplitude', **fig_font)\n",
    "plt.xticks(np.arange(0,tmax+.5,.5), color='k', size=20)\n",
    "plt.yticks((-2,0,2), color='k', size=20)\n",
    "plt.grid(1)\n",
    "plt.show()\n",
    "\n",
    "# then plot samples at 100Hz (or 1 sample every data point)\n",
    "plt.plot(t, sw, 'r-', linewidth = 4)                # plot the original data\n",
    "plt.plot(t[::1], sw[::1], 'ko-', linewidth = 2)    # plot every point to mimic a sr of 100Hz\n",
    "plt.title('Noisy signal sampled at 100Hz')\n",
    "plt.xlabel('Time (s)', **fig_font)\n",
    "plt.ylabel('Amplitude', **fig_font)\n",
    "plt.xticks(np.arange(0,tmax+.5,.5), color='k', size=20)\n",
    "plt.yticks((-2,0,2), color='k', size=20)\n",
    "plt.grid(1)\n",
    "plt.show()"
   ]
  },
  {
   "cell_type": "markdown",
   "metadata": {},
   "source": [
    "## now systematically vary the sample rate to see how reliable our power estimates are with a fixed level of noise. "
   ]
  },
  {
   "cell_type": "code",
   "execution_count": null,
   "metadata": {},
   "outputs": [],
   "source": [
    "sr = np.array([64, 128, 256, 512, 1024, 2048, 4096])  # samp rate in Hz\n",
    "f = 24                          # frequency of signal \n",
    "tmax = 2                        # duration of signal, in s\n",
    "dt = 1/sr                       # time step, reciprocal of the sr\n",
    "noise_amp = 10                  # amplitude of additive IID noise (this is actually 2*amp of noise)\n",
    "num_iterations = 500            # how many times to loop to eval impact of noise as a function of \n",
    "\n",
    "# little note on frequency resolution - function of number of data samples and sample rate\n",
    "num_data_samps = sr * tmax      # just samp rate * how many seconds of data\n",
    "\n",
    "# freq resolution...note that the ONLY thing that increases freq resolution is more time!\n",
    "# for a fixed amount of time the increase in sr and the length of data scale proportionally. \n",
    "fstepSz = sr / num_data_samps   \n",
    "print('Frequency resolution at each samp rate: ', fstepSz)\n",
    "\n",
    "# allocate arrray to store amp at target frequency f\n",
    "amp = np.zeros((num_iterations,len(sr)))\n",
    "\n",
    "# loop over iterations to get an estimate of variaiblity of amp estimates at a given noise level. \n",
    "for j in range(num_iterations):\n",
    "    \n",
    "    # then loop over sample rates...\n",
    "    for i in range(len(sr)):\n",
    "        \n",
    "        t = np.arange(0,tmax,dt[i])        # time axis\n",
    "\n",
    "        # make a sin wave\n",
    "        sw = np.sin(2*pi*f*t) \n",
    "\n",
    "        # add some noise. \n",
    "        sw = sw + (np.random.rand((len(sw))) - .5) * noise_amp\n",
    "\n",
    "        # FFT, with * dt to normalize the amplitude for number of samples in timeseries  \n",
    "        # sp = np.fft.rfft(sw) * dt[i]     \n",
    "        sp = (np.abs(np.fft.rfft(sw)) / len(sw)) * 2\n",
    "\n",
    "        # get your freq axis\n",
    "        freq = np.fft.rfftfreq(sw.size, dt[i])        \n",
    "\n",
    "        # find the nearest value to your target frequency (in this first example it should always be spot on)\n",
    "        ind = np.argmin(np.abs(f-freq))\n",
    "\n",
    "        amp[j,i] = sp[ind]\n",
    "\n",
    "# plot...\n",
    "mean_amp = np.mean(amp,0)\n",
    "std_amp = np.std(amp,0)\n",
    "plt.errorbar(sr, mean_amp, std_amp, color = 'b', linewidth = 3, ecolor = 'b', elinewidth = 3)\n",
    "plt.title('Mean amp +-std', **fig_font)\n",
    "plt.xlabel('Sampling Rate', **fig_font)\n",
    "plt.ylabel('Estimated Amplitude', **fig_font)\n",
    "plt.show()\n",
    "\n",
    "# plt.violinplot(dataset=amp, positions=sr, widths=100)\n",
    "# plt.show()"
   ]
  },
  {
   "cell_type": "markdown",
   "metadata": {},
   "source": [
    "## Last point: Important to carefully epoch your data so that your frequency steps land EXACTLY on the frequency of interest\n",
    "* To illustrate, change the duration of data collection (tmax) from 2s to something weird like 2.56s.\n",
    "* Notice how the amp goes down with 2.56 even though you have more data! why? \n",
    "* Now try fixing the duration (tmax) at 2s but change the frequ (f) to something like 24.22...what happens now? "
   ]
  },
  {
   "cell_type": "code",
   "execution_count": null,
   "metadata": {},
   "outputs": [],
   "source": [
    "sr = np.array([64, 128, 256, 512, 1024, 2048, 4096])  # samp rate in Hz\n",
    "f = 24                          # frequency of signal \n",
    "tmax = 2.02                        # duration of signal, in s\n",
    "dt = 1/sr                       # time step, reciprocal of the sr\n",
    "noise_amp = 0                   # amplitude of additive IID noise (this is actually 2*amp of noise)\n",
    "num_iterations = 250            # how many times to loop to eval impact of noise as a function of \n",
    "\n",
    "# allocate arrray to store amp at target frequency f\n",
    "amp = np.zeros(len(sr))\n",
    "\n",
    "# loop over sample rates...\n",
    "for i in range(len(sr)):\n",
    "    t = np.arange(0,tmax,dt[i])        # time axis\n",
    "\n",
    "    # make a sin wave\n",
    "    sw = np.sin(2*pi*f*t) \n",
    "    \n",
    "    # add some noise. \n",
    "    sw = sw + (np.random.rand((len(sw))) - .5) * noise_amp\n",
    "    \n",
    "    # FFT, with * dt to normalize the amplitude for number of samples in timeseries  \n",
    "    # sp = np.fft.rfft(sw) * dt[i]     \n",
    "    sp = (np.abs(np.fft.rfft(sw)) / len(sw)) * 2\n",
    "\n",
    "    # get your freq axis\n",
    "    freq = np.fft.rfftfreq(sw.size, dt[i])        \n",
    "\n",
    "    # find the nearest value to your target frequency\n",
    "    ind = np.argmin(np.abs(f-freq))\n",
    "\n",
    "    amp[i] = sp[ind]\n",
    "\n",
    "print('Freq resolution: ', freq[1]-freq[0])\n",
    "plt.plot(sr, amp, 'ko-', linewidth = 3)\n",
    "plt.title('Amp (actual == 1)', **fig_font)\n",
    "plt.xlabel('Sampling Rate', **fig_font)\n",
    "plt.ylabel('Estimated Amplitude', **fig_font)\n",
    "plt.show()\n",
    "\n",
    "freq[1]-freq[0]"
   ]
  },
  {
   "cell_type": "markdown",
   "metadata": {},
   "source": [
    "## Another way to look at the same thing - take our mixture of 3 sin waves and change the sample duration a little to see what happens"
   ]
  },
  {
   "cell_type": "code",
   "execution_count": null,
   "metadata": {},
   "outputs": [],
   "source": [
    "sr = 1024                       # samp rate in Hz\n",
    "f = np.array([10,20,30])        # base frequencies in signal \n",
    "amp = np.array([1,1,1])\n",
    "tmax = 2.02                        # duration of signal, in s\n",
    "dt = 1/sr                       # time step, reciprocal of the sr\n",
    "t = np.arange(0,tmax,dt)        # time axis\n",
    "\n",
    "# make a more complex sin wave\n",
    "sw = amp[0]*np.sin(2*pi*f[0]*t)+amp[1]*np.sin(2*pi*f[1]*t)+amp[2]*np.sin(2*pi*f[2]*t)\n",
    "\n",
    "# plot the FFT\n",
    "sp = np.fft.rfft(sw)                  # normalize by the number of data points\n",
    "amp = (np.abs(sp) / len(sw)) *2\n",
    "freq = np.fft.rfftfreq(sw.size, dt)   # Sample spacing is 2nd arg, inverse of the sampling rate. Defaults to 1!\n",
    "plt.plot(freq, amp, 'b', linewidth=1) # plot amplitude (power = np.absolute(sp)**2)\n",
    "plt.legend(['normalized fft'], loc='best', fancybox=1)  \n",
    "plt.xlabel('Frequency', **fig_font)\n",
    "plt.ylabel('Amplitude', **fig_font)\n",
    "plt.xticks(freq[0:80:10], color='k', size=20)\n",
    "plt.yticks((0,1), color='k', size=20)\n",
    "plt.xlim([0, 40])\n",
    "plt.show()"
   ]
  },
  {
   "cell_type": "markdown",
   "metadata": {},
   "source": [
    "## Summary\n",
    "* FFT is a linear transform of the data and is just another way of representing the exact same information\n",
    "* Because its a linear transform you can losslessly go from one representation to the other (FFT and inverse FFT)\n",
    "* The frequency resolution (step size) is dependent on tmax, not on sample rate\n",
    "* However, sample rate DOES determine the ranage of frequencies that you can characterize, and sample rate has to be at minimum twice as high as the frequency of intereset (Nyquist)\n",
    "* That said, having a sample rate at double the frequency of interest is a minimum requirement, having a higher sampling rate is good, especially in high noise regimes\n",
    "* Given that frequency resolution (step size) depends on data length, you can easily miss a frequency-of-interest if you don't carefully select the length of your data epoch. This is also true if you are driving the system and you are off a bit in the driving frequency "
   ]
  }
 ],
 "metadata": {
  "kernelspec": {
   "display_name": "Python 3",
   "language": "python",
   "name": "python3"
  },
  "language_info": {
   "codemirror_mode": {
    "name": "ipython",
    "version": 3
   },
   "file_extension": ".py",
   "mimetype": "text/x-python",
   "name": "python",
   "nbconvert_exporter": "python",
   "pygments_lexer": "ipython3",
   "version": "3.6.5"
  }
 },
 "nbformat": 4,
 "nbformat_minor": 2
}
