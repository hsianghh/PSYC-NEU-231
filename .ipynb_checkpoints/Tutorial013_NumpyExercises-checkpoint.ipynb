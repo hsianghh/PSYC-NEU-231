{
 "cells": [
  {
   "cell_type": "markdown",
   "metadata": {},
   "source": [
    "## EXERCISES\n",
    "\n",
    "### Vector Multiplication\n",
    "1. Produce 2 vectors, one with integers in the range [5,10] and the other [15,20] using the np.arange function\n",
    "1. Without using any functions from the numpy module\n",
    "    1. Compute the outer product of those vectors \n",
    "    1. Compute the \"trace\" of the resulting matrix\n",
    "    \n",
    "    ![trace](https://wikimedia.org/api/rest_v1/media/math/render/svg/3e5b6e82272fc5eeca6d510388e0a2bd0a6c6463)\n",
    "    \n",
    "    \n",
    "Complete the same items using numpy operations"
   ]
  },
  {
   "cell_type": "code",
   "execution_count": 2,
   "metadata": {},
   "outputs": [
    {
     "name": "stdout",
     "output_type": "stream",
     "text": [
      "[ 5  6  7  8  9 10]\n",
      "[15 16 17 18 19 20]\n",
      "Outer Product:\n",
      "[[75, 80, 85, 90, 95, 100], [90, 96, 102, 108, 114, 120], [105, 112, 119, 126, 133, 140], [120, 128, 136, 144, 152, 160], [135, 144, 153, 162, 171, 180], [150, 160, 170, 180, 190, 200]]\n",
      "805\n"
     ]
    }
   ],
   "source": [
    "# import numpy\n",
    "import numpy as np\n",
    "      # \n",
    "x1 = np.arange(5,11,1)\n",
    "x2 = np.arange(15,21,1)\n",
    "print(x1)\n",
    "print(x2)\n",
    "\n",
    "\n",
    "# outer product\n",
    "p_out = [] \n",
    "\n",
    "for i in range(len(x1)): \n",
    "    row = []\n",
    "    for j in range(len(x2)):\n",
    "        row.append(x1[i]*x2[j])\n",
    "        \n",
    "    p_out.append(row)\n",
    "\n",
    "print('Outer Product:') \n",
    "print(p_out)\n",
    "\n",
    "#  the \"trace\" of the resulting matrix\n",
    "y=0\n",
    "for i in range(len(p_out)): \n",
    "    y+=p_out[i][i]  #not p_out[i,i] because it is a list, not an array\n",
    "    \n",
    "print(y)"
   ]
  },
  {
   "cell_type": "markdown",
   "metadata": {},
   "source": [
    "### Matrix Multiplication\n",
    "* Two matricies can be multiplied if their inner dimensions match (eg. 2x3 * 3x5 -> 2x5). The best rule for working with and mutliplying matricies is to remember (rows x columns). This applies to both the dimensions of a matrix (a 2x3 matrix has 2 rows and 3 columns) as well as multiplication (you multiply the rows of the first matrix by the columns of the second). \n",
    "\n",
    "* When multiplying two matricies of dimension (M x N)*(N x P) the resulting matrix is (M x P). The upper element of the reslting matrix is the inner (or dot) product of the first row of the first matrix and the first column of the second matrix\n",
    "\n",
    "![two matrices](https://wikimedia.org/api/rest_v1/media/math/render/svg/16b1644351bc2041175b19cbc65da03ef78130c7)\n",
    "\n",
    "![store product in matrix C](https://wikimedia.org/api/rest_v1/media/math/render/svg/00ac0c831c365b7424cc43239aae8cebea27c56c)\n",
    "\n",
    "![matrix multiply](https://wikimedia.org/api/rest_v1/media/math/render/svg/3cfeccef1c8c7e6da0ddf08daed8dbf3c6f50c5e)\n",
    "\n",
    "for i = 1, ..., n and j = 1, ..., p.\n",
    "\n",
    "1. Make two matrices of random numbers (A and B). A should be a 4x3 matrix and B should be a 3x4 matrix. Multiply A by B using (to a resulting matrix C) using:\n",
    "    1. a conventional for-loop\n",
    "    1. list comprehension\n",
    "    1. numpy operator\n",
    "    \n",
    "2. After you have C, pull out the upper quadrant using fancy indexing, and then replace the main diagonal (upper left to lower right) with 0s. "
   ]
  },
  {
   "cell_type": "code",
   "execution_count": 19,
   "metadata": {},
   "outputs": [
    {
     "name": "stdout",
     "output_type": "stream",
     "text": [
      "[[0.12333358 0.14047317 0.73723534]\n",
      " [0.7064142  0.70609369 0.64987266]\n",
      " [0.82335668 0.66658856 0.36059155]\n",
      " [0.11910347 0.16288583 0.46780872]]\n",
      "[[0.40068859 0.46986894 0.23904741 0.67611533]\n",
      " [0.22160653 0.6081527  0.78607185 0.17541101]\n",
      " [0.30556389 0.30123215 0.70310923 0.98367751]]\n",
      "[[0.30582063 0.36545874 0.65826155 0.83323009]\n",
      " [0.6381047  0.95709741 1.18083833 1.2407392 ]\n",
      " [0.58781376 0.90087913 0.97434303 1.02831685]\n",
      " [0.22676542 0.29594151 0.48543197 0.56927257]]\n",
      "[[0.3058206293981823, 0.36545873779346894, 0.6582615478544289, 0.8332300911644465], [0.6381047000649064, 0.9570974089521065, 1.1808383283694126, 1.2407392043791106], [0.5878137604937675, 0.9008791270572668, 0.9743430347351663, 1.0283168495054662], [0.22676541940653266, 0.2959415050957468, 0.48543197479951516, 0.5692725713779196]]\n",
      "[[0.30582063 0.36545874 0.65826155 0.83323009]\n",
      " [0.6381047  0.95709741 1.18083833 1.2407392 ]\n",
      " [0.58781376 0.90087913 0.97434303 1.02831685]\n",
      " [0.22676542 0.29594151 0.48543197 0.56927257]]\n"
     ]
    }
   ],
   "source": [
    "# import numpy\n",
    "import numpy as np\n",
    "A=np.random.rand(4,3)\n",
    "B=np.random.rand(3,4)\n",
    "print(A)\n",
    "print(B)\n",
    "#print(B[0])\n",
    "#print(len(A))\n",
    "#print(len(B))\n",
    "\n",
    "#A.conventional for-loop\n",
    "result_1=np.zeros((4,4))   \n",
    "# iterate through rows of A\n",
    "for i in range(len(A)):\n",
    "   # iterate through columns of B\n",
    "   for j in range(len(B[0])):\n",
    "       # iterate through rows of B\n",
    "       for m in range(len(B)):\n",
    "            result_1[i][j] += A[i][m]*B[m][j]\n",
    "print(result_1)\n",
    "\n",
    "#B.list comprehension\n",
    "result_2 = [[sum(A[i][m]*B[m][j] for m in range(len(B))) for j in range(len(B[0]))] for i in range(len(A))]\n",
    "print(result_2)\n",
    "\n",
    "#C. numpy operator\n",
    "Am=np.matrix(A)\n",
    "Bm=np.matrix(B)\n",
    "result_3=Am*Bm\n",
    "print(result_3)"
   ]
  }
 ],
 "metadata": {
  "kernelspec": {
   "display_name": "Python 3",
   "language": "python",
   "name": "python3"
  },
  "language_info": {
   "codemirror_mode": {
    "name": "ipython",
    "version": 3
   },
   "file_extension": ".py",
   "mimetype": "text/x-python",
   "name": "python",
   "nbconvert_exporter": "python",
   "pygments_lexer": "ipython3",
   "version": "3.6.5"
  }
 },
 "nbformat": 4,
 "nbformat_minor": 2
}
