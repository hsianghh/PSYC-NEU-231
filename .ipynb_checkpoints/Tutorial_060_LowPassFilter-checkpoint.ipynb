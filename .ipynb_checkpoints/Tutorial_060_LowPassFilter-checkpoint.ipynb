{
 "cells": [
  {
   "cell_type": "markdown",
   "metadata": {},
   "source": [
    "# Intro to basics of filtering theory/application \n",
    "\n",
    "\n",
    "[scipy ref page](https://docs.scipy.org/doc/scipy/reference/signal.html)"
   ]
  },
  {
   "cell_type": "markdown",
   "metadata": {},
   "source": [
    "## Topic and basic principle of filtering\n",
    "* Multiply FFT of timeseries by a transfer function, which is the FFT of time domain implementation of the filter\n",
    "* Basic demo of low pass and high pass filters, with extension to band pass and stop band filters in the exersices "
   ]
  },
  {
   "cell_type": "markdown",
   "metadata": {},
   "source": [
    "## Imports"
   ]
  },
  {
   "cell_type": "code",
   "execution_count": 1,
   "metadata": {},
   "outputs": [],
   "source": [
    "import numpy as np\n",
    "import matplotlib.pyplot as plt\n",
    "\n",
    "# also define the default font we'll use for figures. \n",
    "fig_font = {'fontname':'Arial', 'size':'20'}"
   ]
  },
  {
   "cell_type": "markdown",
   "metadata": {},
   "source": [
    "## Low pass filter\n",
    "* Ideal low pass filter will only let through frequencies you want to keep and will truncate all high undesired high frequencies\n",
    "* This will look like a step function in the frequency domain\n",
    "* Take the followings steps to illustrate\n",
    "    * Generate a complex signal that we can use for simulations\n",
    "    * Make a step function filter in the frequency domain and see what happens..."
   ]
  },
  {
   "cell_type": "code",
   "execution_count": 2,
   "metadata": {},
   "outputs": [
    {
     "name": "stdout",
     "output_type": "stream",
     "text": [
      "[ 1.  2.  3.  4.  5.  6.  7.  8.  9. 10. 11. 12. 13. 14. 15.]\n"
     ]
    }
   ],
   "source": [
    "# define a set of frequencies for our simulated signal. \n",
    "# lets not add any IID noise yet so that the results turn out the same each time\n",
    "Lf = 1  # lowest frequency\n",
    "Hf = 16 # highest frequency\n",
    "\n",
    "#generate list\n",
    "frequs = np.linspace(Lf, Hf-1, Hf-Lf)\n",
    "print(frequs)"
   ]
  },
  {
   "cell_type": "code",
   "execution_count": 3,
   "metadata": {},
   "outputs": [],
   "source": [
    "# make our simulated signal\n",
    "sr = 512                        # samp rate in Hz\n",
    "tmax = 4                        # duration of signal, in s\n",
    "dt = 1/sr                       # time step, reciprocal of the sr\n",
    "t = np.arange(0,tmax,dt)        # time axis\n",
    "\n",
    "# add up a bunch of sin waves at each of our desired frequencies\n",
    "sig = np.zeros(len(t))\n",
    "for f in np.arange(len(frequs)):\n",
    "    sig = sig + np.sin(2*np.pi*frequs[f]*t)"
   ]
  },
  {
   "cell_type": "code",
   "execution_count": 4,
   "metadata": {},
   "outputs": [
    {
     "data": {
      "image/png": "[encoded data removed]",
      "text/plain": [
       "<Figure size 432x288 with 1 Axes>"
      ]
     },
     "metadata": {},
     "output_type": "display_data"
    }
   ],
   "source": [
    "# Plot\n",
    "plt.plot(t, sig, 'b-', linewidth = 2)    # specify x,y data...in this case time and amplitude of sin\n",
    "\n",
    "# put some labels on the axes\n",
    "plt.xlabel('Time (s)', **fig_font)\n",
    "plt.ylabel('Amplitude', **fig_font)\n",
    "\n",
    "# set the tick marks\n",
    "plt.xticks(np.arange(-.1,tmax+.5,.5), color='k', size=20)\n",
    "plt.yticks(np.linspace(-20,20,11), color='k', size=20)\n",
    "\n",
    "# add some nice vertical/horizontal lines \n",
    "plt.axvline(0, color = 'k', linewidth = 2)\n",
    "plt.axhline(0, color = 'k', linewidth = 2)\n",
    "\n",
    "# show it\n",
    "plt.show()"
   ]
  },
  {
   "cell_type": "markdown",
   "metadata": {},
   "source": [
    "## Now FFT and lets have a look at the frequency spectrum "
   ]
  },
  {
   "cell_type": "code",
   "execution_count": 5,
   "metadata": {},
   "outputs": [],
   "source": [
    "# rfft = fft for real valued inputs\n",
    "sp = np.fft.rfft(sig) \n",
    "\n",
    "# amplitude\n",
    "amp = np.abs(sp)  \n",
    "\n",
    "# normalize by the number of data points, \n",
    "# x2 cause we're ditching the negative frequencies when we deal with real numbers\n",
    "amp = (amp  / len(sig) ) * 2   \n",
    "\n",
    "# figure out the frequency resolution of the data \n",
    "freq = np.fft.rfftfreq(sig.size, dt)   # Sample spacing is 2nd arg, inverse of the sampling rate. Defaults to 1!"
   ]
  },
  {
   "cell_type": "code",
   "execution_count": null,
   "metadata": {},
   "outputs": [],
   "source": [
    "# plot the fft\n",
    "plt.plot(freq, amp, 'k')            # plot amplitude \n",
    "\n",
    "# put a legend on it...\n",
    "plt.legend(['normalized fft'], loc='best', fontsize='x-large')  \n",
    "plt.xlabel('Frequency', **fig_font)\n",
    "plt.ylabel('Amplitude', **fig_font)\n",
    "plt.xticks(frequs[::2], color='k', size=20)\n",
    "plt.yticks((0,1,2), color='k', size=20)\n",
    "\n",
    "# set the axis limits\n",
    "plt.xlim([0, Hf])\n",
    "\n",
    "# show it\n",
    "plt.show()"
   ]
  },
  {
   "cell_type": "markdown",
   "metadata": {},
   "source": [
    "## Now design an ideal low pass filter - one that only passes frequencies below the cutoff and truncates everything else.\n",
    "* Note that this will look like a box-car function in the frequency domain\n",
    "* If you multiply this filter with the FFT of the original data, and then iFFT, you should only have low frequencies left!\n",
    "* This kind of filter with a hard cutoff is often referred to as a brick-wall filter"
   ]
  },
  {
   "cell_type": "code",
   "execution_count": null,
   "metadata": {},
   "outputs": [],
   "source": [
    "# lets pass everything below 5Hz and cut off everything else\n",
    "lowpass_cut = 5\n",
    "\n",
    "# find the freq in our FFT range that is closest to our desired cutoff point\n",
    "cutoff_pnt = np.argmin(np.abs(freq-lowpass_cut))\n",
    "\n",
    "# make the filter\n",
    "lp_filt = np.zeros(len(freq))\n",
    "lp_filt[0:cutoff_pnt] = 1\n",
    "\n",
    "plt.plot(freq, lp_filt, c='k', linewidth=3)\n",
    "plt.xlabel('Frequency', **fig_font)\n",
    "plt.ylabel('Amplitude', **fig_font)\n",
    "plt.xticks(frequs[::2], color='k', size=20)\n",
    "plt.yticks((0,1,2), color='k', size=20)\n",
    "# set the axis limits\n",
    "plt.xlim([0, Hf])\n",
    "plt.title('Low pass filter in frequ domain', **fig_font)\n",
    "plt.show()"
   ]
  },
  {
   "cell_type": "markdown",
   "metadata": {},
   "source": [
    "## Apply the filtering by multiplying it with the data \n",
    "* To filter data, you can multiply the fft of your signal with the frequency domain representation of the filter...\n"
   ]
  },
  {
   "cell_type": "code",
   "execution_count": null,
   "metadata": {},
   "outputs": [],
   "source": [
    "# do the mutliplication in the frequ domain\n",
    "# NEED THE COMPLEX VALUED SIGNAL, not just the amplitude\n",
    "# so use sp, not amp\n",
    "\n",
    "# filter the data (multiply, iFFT)\n",
    "# do it in steps here to make it clear\n",
    "multiply_in_frequ_domain = sp*lp_filt\n",
    "# take the ifft\n",
    "filtered_sig = np.fft.irfft(multiply_in_frequ_domain)"
   ]
  },
  {
   "cell_type": "code",
   "execution_count": null,
   "metadata": {},
   "outputs": [],
   "source": [
    "# plot the filtered data...all the high frequency stuff > 5Hz should be gone!\n",
    "plt.plot(t, filtered_sig)\n",
    "plt.xlabel('Time(s)', **fig_font)\n",
    "plt.ylabel('Amplitude', **fig_font)\n",
    "plt.xticks(np.arange(-.1,tmax+.5,.5), color='k', size=20)\n",
    "plt.yticks(np.linspace(-20,20,11), color='k', size=20)\n",
    "plt.title('Filtered signal', **fig_font)\n",
    "plt.show()"
   ]
  },
  {
   "cell_type": "markdown",
   "metadata": {},
   "source": [
    "## Now FFT our filtered signal to see what it looks like in the frequ domain"
   ]
  },
  {
   "cell_type": "code",
   "execution_count": null,
   "metadata": {},
   "outputs": [],
   "source": [
    "# rfft = fft for real valued inputs\n",
    "sp_filt = np.fft.rfft(filtered_sig)      \n",
    "# amplitude\n",
    "amp_filt = np.abs(sp_filt)  \n",
    "\n",
    "# normalize by the number of data points, \n",
    "amp_filt = (amp_filt  / len(filtered_sig) ) * 2   \n",
    "\n",
    "# figure out the frequency resolution of the data \n",
    "freq = np.fft.rfftfreq(filtered_sig.size, dt)   # Sample spacing is 2nd arg, inverse of the sampling rate. Defaults to 1!"
   ]
  },
  {
   "cell_type": "code",
   "execution_count": null,
   "metadata": {},
   "outputs": [],
   "source": [
    "# plot the fft\n",
    "plt.plot(freq, amp, 'b')            # plot amplitude of the original signal\n",
    "plt.plot(freq, amp_filt, 'r')       # plot amplitude of filtered signal \n",
    "\n",
    "# put a legend on it...\n",
    "plt.legend(['Before filt', 'After filt'], loc='best', fontsize='x-large')  \n",
    "plt.xlabel('Frequency', **fig_font)\n",
    "plt.ylabel('Amplitude', **fig_font)\n",
    "plt.xticks(frequs[::2], color='k', size=20)\n",
    "plt.yticks((0,1), color='k', size=20)\n",
    "\n",
    "# set the axis limits\n",
    "plt.xlim([0, Hf])\n",
    "\n",
    "plt.title('Before and after low pass filtering @ 5Hz', **fig_font)\n",
    "\n",
    "# show it\n",
    "plt.show()"
   ]
  },
  {
   "cell_type": "markdown",
   "metadata": {},
   "source": [
    "## What does that filter look like in the time domain?\n",
    "* Inverse FFT the low-pass filter\n",
    "* Its a sinc (cardinal sin) function\n",
    "\n",
    "<div class=\"alert alert-info\">\n",
    "Notice that that the time-domain representation goes on forever in both directions...this is a problem for implementing with finite length data sets! We'll see how to address this below. \n",
    "</div>"
   ]
  },
  {
   "cell_type": "code",
   "execution_count": null,
   "metadata": {},
   "outputs": [],
   "source": [
    "# iFFT\n",
    "inv_filter = np.fft.irfft(lp_filt)\n",
    "\n",
    "# symetric over the span, so center to better visualize\n",
    "inv_filter = np.roll(inv_filter, int(len(inv_filter)/2))\n",
    "plt.plot(t, inv_filter)\n",
    "plt.xlabel('Samples', **fig_font)\n",
    "plt.ylabel('Amplitude', **fig_font)\n",
    "plt.title('iFFT of brick wall lp filter', **fig_font)\n",
    "plt.show()"
   ]
  },
  {
   "cell_type": "markdown",
   "metadata": {},
   "source": [
    "## Now take a look at how to design this kind of filter in a more principled manner and deal with the infinite fall-off of the sinc for finite length data sets\n",
    "* The iFFT of an ideal lp filter is a sinc function\n",
    "* Can build the function in the time domain, then fft the filter and the signal, the multiply, then iFFT to get our filtered signal"
   ]
  },
  {
   "cell_type": "markdown",
   "metadata": {},
   "source": [
    "### First make a slightly more interesting simulated signal to deal with...include a larger set of frequencies"
   ]
  },
  {
   "cell_type": "code",
   "execution_count": null,
   "metadata": {},
   "outputs": [],
   "source": [
    "# lets just pick a set of frequencies going from pretty low to higher than we had before\n",
    "frequs = [5, 12, 17, 56]"
   ]
  },
  {
   "cell_type": "code",
   "execution_count": null,
   "metadata": {},
   "outputs": [],
   "source": [
    "# first lets set up a more interesting signal with some higher frequencies\n",
    "sr = 512                        # samp rate in Hz\n",
    "tmax = 4                        # duration of signal, in s\n",
    "dt = 1/sr                       # time step, reciprocal of the sr\n",
    "t = np.arange(0,tmax,dt)        # time axis\n",
    "\n",
    "# add up a bunch of sin waves at each of our desired frequencies\n",
    "sig = np.zeros(len(t))\n",
    "for f in np.arange(len(frequs)):\n",
    "    sig = sig + np.sin(2*np.pi*frequs[f]*t)"
   ]
  },
  {
   "cell_type": "code",
   "execution_count": null,
   "metadata": {},
   "outputs": [],
   "source": [
    "# Plot\n",
    "plt.plot(t, sig, 'b-', linewidth = 2)    # specify x,y data...in this case time and amplitude of sin\n",
    "\n",
    "# put some labels on the axes\n",
    "plt.xlabel('Time (s)', **fig_font)\n",
    "plt.ylabel('Amplitude', **fig_font)\n",
    "\n",
    "# set the tick marks\n",
    "plt.xticks(np.arange(-.1,tmax+.5,.5), color='k', size=20)\n",
    "plt.yticks(np.linspace(-6,6,5), color='k', size=20)\n",
    "\n",
    "# add some nice vertical/horizontal lines \n",
    "plt.axvline(0, color = 'k', linewidth = 2)\n",
    "plt.axhline(0, color = 'k', linewidth = 2)\n",
    "\n",
    "# show it\n",
    "plt.show()"
   ]
  },
  {
   "cell_type": "markdown",
   "metadata": {},
   "source": [
    "### Now design our sinc filter!"
   ]
  },
  {
   "cell_type": "code",
   "execution_count": null,
   "metadata": {},
   "outputs": [],
   "source": [
    "# First specify a cutoff frequency, fc, that is a fraction of the sampling rate over 0, .5...why is the max .5?\n",
    "fc = 0.1 \n",
    "\n",
    "# Then specify the transition band, again this will be a fraction of the sampling rate over 0, .5\n",
    "b = 0.1  \n",
    "\n",
    "# more on this below, but now need to make sure that ceil(4/b) is odd\n",
    "N = int(np.ceil((4 / b)))\n",
    "\n",
    "# figure this out by returning the remainder (modulo operator) after dividing by 2\n",
    "# if its even, then this == 0, else non-zero, so if its not true (i.e. == 0), then we add 1!\n",
    "# if you don't do this then the function won't be centered\n",
    "# An odd-length symmetrical filter will have delay that is an integer number of samples\n",
    "# more on this in a bit...\n",
    "if not N % 2: N += 1  \n",
    "    \n",
    "# generate span over which to eval sinc function    \n",
    "n = np.arange(N)\n",
    " \n",
    "# Compute the filter, taking into account our cutoff freq\n",
    "sinc_func = np.sinc(2 * fc * (n - (N - 1) / 2.))\n",
    " \n",
    "# Normalize to have an area of 1 (unit area)\n",
    "sinc_func = sinc_func / np.sum(sinc_func)"
   ]
  },
  {
   "cell_type": "markdown",
   "metadata": {},
   "source": [
    "## Plot the sinc function"
   ]
  },
  {
   "cell_type": "code",
   "execution_count": null,
   "metadata": {},
   "outputs": [],
   "source": [
    "plt.plot(n, sinc_func)\n",
    "plt.xlabel('Samples', **fig_font)\n",
    "plt.ylabel('Amplitude', **fig_font)\n",
    "plt.title('Sinc filter in time domain', **fig_font)\n",
    "plt.show()"
   ]
  },
  {
   "cell_type": "markdown",
   "metadata": {},
   "source": [
    "## Now lets look at the frequency domain representation of this filter\n",
    "* Remember that a sinc function goes on forever in both directions, and we've only evaluated it over a small range"
   ]
  },
  {
   "cell_type": "code",
   "execution_count": null,
   "metadata": {},
   "outputs": [],
   "source": [
    "# take the fft, convert to amplitude, then normalize\n",
    "sinc_fft = (np.abs(np.fft.rfft(sinc_func)) / len(filtered_sig) ) * 2\n",
    "\n",
    "# figure out the frequency resolution of the data\n",
    "# recall that our 'dt' here is calculated based on the signal \n",
    "# that we set up at the begining of the tutorial with a \n",
    "# sr = 512, so fc*512 should be around our filter fall-off\n",
    "freq = np.fft.rfftfreq(sinc_func.size, dt)   \n",
    "\n",
    "plt.plot(freq, sinc_fft)\n",
    "plt.axvline(fc*sr, color = 'k', linewidth = 2)\n",
    "plt.xlabel('Frequency', **fig_font)\n",
    "plt.ylabel('Amplitude', **fig_font)\n",
    "plt.title('Sinc filter in frequ domain', **fig_font)\n",
    "plt.show()"
   ]
  },
  {
   "cell_type": "markdown",
   "metadata": {},
   "source": [
    "### Note that it looks sort of like our brick wall filter, but the fall-off is not quite so sharp and there are weird bumps in it (esp in the low frequ part of the band)\n",
    "* Our 'b' param will control the sharpness of the fall-off\n",
    "* The bumps are the by-product of truncation a filter function that goes in both directions forever...\n",
    "* Solution for the bumps is to apply a window that dampens the edge artifacts\n",
    "    * A common choice - from among many - is a Blackman window "
   ]
  },
  {
   "cell_type": "code",
   "execution_count": null,
   "metadata": {},
   "outputs": [],
   "source": [
    "# build a Blackman window (by hand at first), take a look, and then apply to the filter and recompute everything\n",
    "b_window = 0.42 - 0.5 * np.cos(2 * np.pi * n / (N - 1)) + \\\n",
    "    0.08 * np.cos(4 * np.pi * n / (N - 1))\n",
    "\n",
    "# or, the boring way\n",
    "# b_window = np.blackman(N)\n",
    "\n",
    "plt.plot(n, b_window)\n",
    "plt.xlabel('Samples', **fig_font)\n",
    "plt.ylabel('Amplitude', **fig_font)\n",
    "plt.title('Blackman Window', **fig_font)\n",
    "plt.show()"
   ]
  },
  {
   "cell_type": "markdown",
   "metadata": {},
   "source": [
    "#### Apply the window to the sinc filter...\n",
    "* Should dampend the edges while leaving the center of the filter unchanged"
   ]
  },
  {
   "cell_type": "code",
   "execution_count": null,
   "metadata": {},
   "outputs": [],
   "source": [
    "# element-wise multiplication\n",
    "win_sinc_func = sinc_func * b_window\n",
    "plt.plot(n, sinc_func)\n",
    "plt.plot(n, win_sinc_func)\n",
    "plt.legend(['Original sinc', 'Windowed sinc'])\n",
    "plt.xlabel('Samples', **fig_font)\n",
    "plt.ylabel('Amplitude', **fig_font)\n",
    "plt.title('Blackman Windowed sinc function', **fig_font)\n",
    "plt.show()"
   ]
  },
  {
   "cell_type": "markdown",
   "metadata": {},
   "source": [
    "#### Now lets have a look at the frequency domain representation of the windowed sinc function\n",
    "* Should yeild a nice smooth function in the frequency domain!"
   ]
  },
  {
   "cell_type": "code",
   "execution_count": null,
   "metadata": {},
   "outputs": [],
   "source": [
    "# take the fft, convert to amplitude, then normalize\n",
    "win_sinc_fft = (np.abs(np.fft.rfft(win_sinc_func)) / len(filtered_sig) ) * 2\n",
    "\n",
    "# figure out the frequency resolution of the data\n",
    "# recall that our 'dt' here is calculated based on the signal \n",
    "# that we set up at the begining of the tutorial with a \n",
    "# sr = 512, so fc*512 should be around our filter fall-off\n",
    "freq = np.fft.rfftfreq(win_sinc_func.size, dt)   \n",
    "\n",
    "# plot\n",
    "plt.plot(freq, sinc_fft)\n",
    "plt.plot(freq, win_sinc_fft)\n",
    "plt.legend(['Original sinc', 'Windowed sinc'])\n",
    "plt.axvline(fc*sr, color = 'k', linewidth = 2)\n",
    "plt.xlabel('Frequency', **fig_font)\n",
    "plt.ylabel('Amplitude', **fig_font)\n",
    "plt.title('Sinc filter in frequ domain', **fig_font)\n",
    "plt.show()"
   ]
  },
  {
   "cell_type": "markdown",
   "metadata": {},
   "source": [
    "## Now let's apply the windowed sinc function to the data to see how well it works."
   ]
  },
  {
   "cell_type": "code",
   "execution_count": null,
   "metadata": {},
   "outputs": [],
   "source": [
    "# fft our signal\n",
    "fft_sig = np.fft.rfft(sig)\n",
    "\n",
    "# need to zero pad to make the filter the same length as the signal\n",
    "X = len(sig)\n",
    "Y = len(win_sinc_func)\n",
    "\n",
    "# zero pad in the time domain\n",
    "if Y<X:\n",
    "    win_sinc_func = np.hstack((win_sinc_func, np.zeros(X-Y)))\n",
    "\n",
    "# fft the filter\n",
    "fft_filt = np.fft.rfft(win_sinc_func)\n",
    "\n",
    "# multiply in freq domain, then ifft to go back into the time domain\n",
    "filt_sig = np.fft.irfft(fft_sig*fft_filt)"
   ]
  },
  {
   "cell_type": "code",
   "execution_count": null,
   "metadata": {},
   "outputs": [],
   "source": [
    "# Plot the regular signal\n",
    "plt.plot(t, sig)\n",
    "plt.xlabel('Samples', **fig_font)\n",
    "plt.ylabel('Amplitude', **fig_font)\n",
    "plt.title('Original Signal', **fig_font)\n",
    "plt.show()\n",
    "\n",
    "# plot the filtered signal\n",
    "plt.plot(t, filt_sig)\n",
    "plt.xlabel('Samples', **fig_font)\n",
    "plt.ylabel('Amplitude', **fig_font)\n",
    "plt.title('Filtered Signal', **fig_font)\n",
    "plt.show()"
   ]
  },
  {
   "cell_type": "markdown",
   "metadata": {},
   "source": [
    "## See how well we did - our filter should have cut off > 50Hz and left amp of frequencies lower than the cutoff relatively unchanged\n",
    "* Notice that power at the 50Hz component of our signal is heavily attenuated!\n",
    "* Go back and repeat with b = .01 - that will make the roll-off much sharper in the frequ domain (i.e. closer to a brick wall filter we started off with)"
   ]
  },
  {
   "cell_type": "code",
   "execution_count": null,
   "metadata": {},
   "outputs": [],
   "source": [
    "# fft our signal\n",
    "fft_sig = (np.abs(np.fft.rfft(sig)) / len(sig) ) * 2\n",
    "freq = np.fft.rfftfreq(sig.size, dt)   \n",
    "\n",
    "# fft our filtered signal\n",
    "fft_filt_sig = (np.abs(np.fft.rfft(filt_sig)) / len(filt_sig) ) * 2\n",
    "\n",
    "# plot\n",
    "plt.plot(freq, fft_sig, marker='o')\n",
    "plt.plot(freq, fft_filt_sig, marker='o')\n",
    "plt.xlabel('Frequency', **fig_font)\n",
    "plt.ylabel('Amplitude', **fig_font)\n",
    "plt.xlim([0, 60])\n",
    "plt.ylim([0, 2])\n",
    "plt.legend(['Original Signal', 'Filtered Signal'])\n",
    "plt.show()"
   ]
  },
  {
   "cell_type": "markdown",
   "metadata": {},
   "source": [
    "## So the filtering part works...however, if you plot the filtered signal on top of the original signal, you'll notice that there is a temporal shift that depends on the filter roll-off (b)\n",
    "* The length of the filter is N, then we can correct for this by shifting by (N-1)/2"
   ]
  },
  {
   "cell_type": "code",
   "execution_count": null,
   "metadata": {},
   "outputs": [],
   "source": [
    "# to see this most clearly, lets just zoom in and plot a small segment of the data\n",
    "# can do boolean indexing, but demo the \"where\" function here (like Matlab \"find\")\n",
    "index = np.where((t>=1) & (t<1.5))\n",
    "\n",
    "# plot\n",
    "plt.plot(t[index], sig[index])\n",
    "plt.plot(t[index], filt_sig[index])\n",
    "plt.xlabel('Frequency', **fig_font)\n",
    "plt.ylabel('Amplitude', **fig_font)\n",
    "plt.legend(['Original Signal', 'Filtered Signal'])\n",
    "plt.show()"
   ]
  },
  {
   "cell_type": "markdown",
   "metadata": {},
   "source": [
    "### Can account for that shift pretty easily\n",
    "* Remember that we made our filter length odd (N in the filter definition, which in turn is related to b, or the roll off)\n",
    "* We can then shift the filtered data by (N-1)/2 timepoints, or 1/2 of the filter width, to correct for offset"
   ]
  },
  {
   "cell_type": "code",
   "execution_count": null,
   "metadata": {},
   "outputs": [],
   "source": [
    "index = np.where((t>=1) & (t<1.5))\n",
    "# shift by (N-1)/2 - this will be an integer so long as N is odd\n",
    "# which is a condition that we enforced earlier when designing the \n",
    "# filter...shift by corresponding timepoints\n",
    "shift_by = dt*((N-1)/2)  # convert to units of filter length in time: so number of points * dt\n",
    "shift_index = np.where((t>=1+shift_by) & (t<1.5+shift_by))\n",
    "\n",
    "# plot - should be all lined up!\n",
    "plt.plot(t[index], sig[index])\n",
    "plt.plot(t[index], filt_sig[shift_index])\n",
    "plt.xlabel('Frequency', **fig_font)\n",
    "plt.ylabel('Amplitude', **fig_font)\n",
    "plt.legend(['Original Signal', 'Filtered Signal'])\n",
    "plt.show()"
   ]
  },
  {
   "cell_type": "markdown",
   "metadata": {},
   "source": [
    "## Why not have a sharp roll-off all the time, esp given that you can shift your data around in time to account for the offset?\n",
    "* Sharper roll off filters lead to larger shift in the time domain of the output signal\n",
    "* This is due to the inherent trade-off between time-domain and frequency domain resolution (so sharper freq domain filter, or steeper roll off, will require considering a longer window in the time domain).\n",
    "* For finite length signals this can be a problem (e.g. if you have 1s of signal that you're filtering...)"
   ]
  }
 ],
 "metadata": {
  "kernelspec": {
   "display_name": "Python 3",
   "language": "python",
   "name": "python3"
  },
  "language_info": {
   "codemirror_mode": {
    "name": "ipython",
    "version": 3
   },
   "file_extension": ".py",
   "mimetype": "text/x-python",
   "name": "python",
   "nbconvert_exporter": "python",
   "pygments_lexer": "ipython3",
   "version": "3.6.5"
  }
 },
 "nbformat": 4,
 "nbformat_minor": 2
}
